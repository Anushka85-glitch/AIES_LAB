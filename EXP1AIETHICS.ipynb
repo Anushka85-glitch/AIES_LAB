{
  "nbformat": 4,
  "nbformat_minor": 0,
  "metadata": {
    "colab": {
      "provenance": []
    },
    "kernelspec": {
      "name": "python3",
      "display_name": "Python 3"
    },
    "language_info": {
      "name": "python"
    }
  },
  "cells": [
    {
      "cell_type": "markdown",
      "source": [
        "Installation & Imports"
      ],
      "metadata": {
        "id": "cUOX2vDFS7XM"
      }
    },
    {
      "cell_type": "code",
      "source": [
        "!pip install fairlearn seaborn\n",
        "\n",
        "import pandas as pd\n",
        "import seaborn as sns\n",
        "import matplotlib.pyplot as plt\n",
        "\n",
        "from sklearn.model_selection import train_test_split\n",
        "from sklearn.linear_model import LogisticRegression\n",
        "from sklearn.metrics import accuracy_score\n",
        "\n",
        "from fairlearn.metrics import MetricFrame, selection_rate\n",
        "from fairlearn.reductions import ExponentiatedGradient, DemographicParity"
      ],
      "metadata": {
        "colab": {
          "base_uri": "https://localhost:8080/"
        },
        "id": "WuzUGKJ3TC7_",
        "outputId": "8bc15e4e-74f5-47ed-8e93-a30c18dad970"
      },
      "execution_count": 13,
      "outputs": [
        {
          "output_type": "stream",
          "name": "stdout",
          "text": [
            "Requirement already satisfied: fairlearn in /usr/local/lib/python3.11/dist-packages (0.12.0)\n",
            "Requirement already satisfied: seaborn in /usr/local/lib/python3.11/dist-packages (0.13.2)\n",
            "Requirement already satisfied: numpy>=1.24.4 in /usr/local/lib/python3.11/dist-packages (from fairlearn) (2.0.2)\n",
            "Requirement already satisfied: pandas>=2.0.3 in /usr/local/lib/python3.11/dist-packages (from fairlearn) (2.2.2)\n",
            "Requirement already satisfied: scikit-learn>=1.2.1 in /usr/local/lib/python3.11/dist-packages (from fairlearn) (1.6.1)\n",
            "Requirement already satisfied: scipy>=1.9.3 in /usr/local/lib/python3.11/dist-packages (from fairlearn) (1.16.1)\n",
            "Requirement already satisfied: matplotlib!=3.6.1,>=3.4 in /usr/local/lib/python3.11/dist-packages (from seaborn) (3.10.0)\n",
            "Requirement already satisfied: contourpy>=1.0.1 in /usr/local/lib/python3.11/dist-packages (from matplotlib!=3.6.1,>=3.4->seaborn) (1.3.3)\n",
            "Requirement already satisfied: cycler>=0.10 in /usr/local/lib/python3.11/dist-packages (from matplotlib!=3.6.1,>=3.4->seaborn) (0.12.1)\n",
            "Requirement already satisfied: fonttools>=4.22.0 in /usr/local/lib/python3.11/dist-packages (from matplotlib!=3.6.1,>=3.4->seaborn) (4.59.0)\n",
            "Requirement already satisfied: kiwisolver>=1.3.1 in /usr/local/lib/python3.11/dist-packages (from matplotlib!=3.6.1,>=3.4->seaborn) (1.4.8)\n",
            "Requirement already satisfied: packaging>=20.0 in /usr/local/lib/python3.11/dist-packages (from matplotlib!=3.6.1,>=3.4->seaborn) (25.0)\n",
            "Requirement already satisfied: pillow>=8 in /usr/local/lib/python3.11/dist-packages (from matplotlib!=3.6.1,>=3.4->seaborn) (11.3.0)\n",
            "Requirement already satisfied: pyparsing>=2.3.1 in /usr/local/lib/python3.11/dist-packages (from matplotlib!=3.6.1,>=3.4->seaborn) (3.2.3)\n",
            "Requirement already satisfied: python-dateutil>=2.7 in /usr/local/lib/python3.11/dist-packages (from matplotlib!=3.6.1,>=3.4->seaborn) (2.9.0.post0)\n",
            "Requirement already satisfied: pytz>=2020.1 in /usr/local/lib/python3.11/dist-packages (from pandas>=2.0.3->fairlearn) (2025.2)\n",
            "Requirement already satisfied: tzdata>=2022.7 in /usr/local/lib/python3.11/dist-packages (from pandas>=2.0.3->fairlearn) (2025.2)\n",
            "Requirement already satisfied: joblib>=1.2.0 in /usr/local/lib/python3.11/dist-packages (from scikit-learn>=1.2.1->fairlearn) (1.5.1)\n",
            "Requirement already satisfied: threadpoolctl>=3.1.0 in /usr/local/lib/python3.11/dist-packages (from scikit-learn>=1.2.1->fairlearn) (3.6.0)\n",
            "Requirement already satisfied: six>=1.5 in /usr/local/lib/python3.11/dist-packages (from python-dateutil>=2.7->matplotlib!=3.6.1,>=3.4->seaborn) (1.17.0)\n"
          ]
        }
      ]
    },
    {
      "cell_type": "markdown",
      "source": [
        "Load & Preprocess Dataset"
      ],
      "metadata": {
        "id": "HFGujzzxTI8C"
      }
    },
    {
      "cell_type": "code",
      "source": [
        "# Load dataset\n",
        "data = pd.read_csv(\"/content/adult.data\", header=None, na_values=' ?')\n",
        "data.columns = ['age', 'workclass', 'fnlwgt', 'education', 'education.num', 'marital.status', 'occupation', 'relationship', 'race', 'sex', 'capital.gain', 'capital.loss', 'hours.per.week', 'native.country', 'income']\n",
        "print(data.columns.values)\n",
        "\n",
        "# Select relevant columns\n",
        "data = data[['age', 'education.num', 'hours.per.week', 'sex', 'income']]\n",
        "\n",
        "# One-hot encode (drop first to avoid dummy trap)\n",
        "data = pd.get_dummies(data, drop_first=True)\n",
        "\n",
        "print(data.columns.values)\n",
        "\n",
        "# Prepare X and y\n",
        "X = data.drop('income_ >50K', axis=1)\n",
        "y = data['income_ >50K']"
      ],
      "metadata": {
        "colab": {
          "base_uri": "https://localhost:8080/"
        },
        "id": "BzeCTDbcTQRB",
        "outputId": "b51d641f-1666-43bf-9b7c-dd20d77790cd"
      },
      "execution_count": 17,
      "outputs": [
        {
          "output_type": "stream",
          "name": "stdout",
          "text": [
            "['age' 'workclass' 'fnlwgt' 'education' 'education.num' 'marital.status'\n",
            " 'occupation' 'relationship' 'race' 'sex' 'capital.gain' 'capital.loss'\n",
            " 'hours.per.week' 'native.country' 'income']\n",
            "['age' 'education.num' 'hours.per.week' 'sex_ Male' 'income_ >50K']\n"
          ]
        }
      ]
    },
    {
      "cell_type": "markdown",
      "source": [
        "Training & Evaluation of Baseline Model"
      ],
      "metadata": {
        "id": "bWzwyZFBTqmZ"
      }
    },
    {
      "cell_type": "code",
      "source": [
        "# Train-test split\n",
        "X_train, X_test, y_train, y_test = train_test_split(\n",
        "    X, y, test_size=0.3, random_state=42\n",
        ")\n",
        "\n",
        "# Logistic Regression\n",
        "model = LogisticRegression(max_iter=1000)\n",
        "model.fit(X_train, y_train)\n",
        "y_pred = model.predict(X_test)\n",
        "\n",
        "print(y_pred)\n",
        "\n",
        "# Fairness evaluation\n",
        "sex = X_test['sex_ Male']\n",
        "metric_frame = MetricFrame(\n",
        "    metrics=selection_rate,\n",
        "    y_true=y_test,\n",
        "    y_pred=y_pred,\n",
        "    sensitive_features=sex\n",
        ")\n",
        "\n",
        "print(\"Selection Rates by Gender:\\n\", metric_frame.by_group)"
      ],
      "metadata": {
        "colab": {
          "base_uri": "https://localhost:8080/"
        },
        "id": "xR6agLS4Tvro",
        "outputId": "a8378dd8-2402-4b57-b739-3f8cb795e654"
      },
      "execution_count": 19,
      "outputs": [
        {
          "output_type": "stream",
          "name": "stdout",
          "text": [
            "[False False False ... False False  True]\n",
            "Selection Rates by Gender:\n",
            " sex_ Male\n",
            "False    0.018221\n",
            "True     0.199816\n",
            "Name: selection_rate, dtype: float64\n"
          ]
        }
      ]
    },
    {
      "cell_type": "markdown",
      "source": [
        "Visualization of Selection Rates"
      ],
      "metadata": {
        "id": "Q7Pce6dBT4Wq"
      }
    },
    {
      "cell_type": "code",
      "source": [
        "# Example selection rates from MetricFrame (replace with your metric_frame.by_group values)\n",
        "selection_rates = {\n",
        "    'Female': metric_frame.by_group[0],\n",
        "    'Male': metric_frame.by_group[1]\n",
        "}\n",
        "\n",
        "# Convert to DataFrame\n",
        "df = pd.DataFrame(list(selection_rates.items()), columns=[\"Gender\", \"Selection Rate\"])\n",
        "\n",
        "# Plot\n",
        "plt.figure(figsize=(6, 4))\n",
        "bars = plt.bar(df[\"Gender\"], df[\"Selection Rate\"], color=[\"#ff9999\", \"#66b3ff\"])\n",
        "plt.title(\"Selection Rates by Gender\")\n",
        "plt.ylabel(\"Selection Rate\")\n",
        "plt.ylim(0, 0.25)\n",
        "plt.grid(axis='y', linestyle='--', alpha=0.6)\n",
        "\n",
        "# Add percentage labels above bars\n",
        "for bar in bars:\n",
        "    yval = bar.get_height()\n",
        "    plt.text(bar.get_x() + bar.get_width()/2, yval + 0.005, f\"{yval:.2%}\", ha='center', va='bottom')\n",
        "\n",
        "plt.tight_layout()\n",
        "plt.show()"
      ],
      "metadata": {
        "colab": {
          "base_uri": "https://localhost:8080/",
          "height": 500
        },
        "id": "9FtbUWaXT-AF",
        "outputId": "4c8dbab7-fbb8-4059-8e85-aa9ed53d00c0"
      },
      "execution_count": 20,
      "outputs": [
        {
          "output_type": "stream",
          "name": "stderr",
          "text": [
            "/tmp/ipython-input-2449508845.py:3: FutureWarning: Series.__getitem__ treating keys as positions is deprecated. In a future version, integer keys will always be treated as labels (consistent with DataFrame behavior). To access a value by position, use `ser.iloc[pos]`\n",
            "  'Female': metric_frame.by_group[0],\n",
            "/tmp/ipython-input-2449508845.py:4: FutureWarning: Series.__getitem__ treating keys as positions is deprecated. In a future version, integer keys will always be treated as labels (consistent with DataFrame behavior). To access a value by position, use `ser.iloc[pos]`\n",
            "  'Male': metric_frame.by_group[1]\n"
          ]
        },
        {
          "output_type": "display_data",
          "data": {
            "text/plain": [
              "<Figure size 600x400 with 1 Axes>"
            ],
            "image/png": "[encoded data removed]"
          },
          "metadata": {}
        }
      ]
    },
    {
      "cell_type": "markdown",
      "source": [
        "Fair Model with Demographic Parity"
      ],
      "metadata": {
        "id": "GdpVaTF9UGhf"
      }
    },
    {
      "cell_type": "code",
      "source": [
        "# Sensitive feature for fairness constraints\n",
        "sensitive_feature = X['sex_ Male']\n",
        "\n",
        "# Split with sensitive feature\n",
        "X_train, X_test, y_train, y_test, sf_train, sf_test = train_test_split(\n",
        "    X, y, sensitive_feature, test_size=0.3, random_state=42\n",
        ")\n",
        "\n",
        "# Base estimator\n",
        "estimator = LogisticRegression(max_iter=1000)\n",
        "\n",
        "# Apply fairness constraint: Demographic Parity\n",
        "fair_model = ExponentiatedGradient(\n",
        "    estimator,\n",
        "    constraints=DemographicParity(),\n",
        "    eps=0.01  # fairness tolerance\n",
        ")\n",
        "\n",
        "# Train\n",
        "fair_model.fit(X_train, y_train, sensitive_features=sf_train)\n",
        "\n",
        "# Predict\n",
        "y_pred_fair = fair_model.predict(X_test)\n",
        "\n",
        "# Evaluate fairness + accuracy\n",
        "metric_frame_fair = MetricFrame(\n",
        "    metrics={\n",
        "        \"Selection Rate\": selection_rate,\n",
        "        \"Accuracy\": accuracy_score\n",
        "    },\n",
        "    y_true=y_test,\n",
        "    y_pred=y_pred_fair,\n",
        "    sensitive_features=sf_test\n",
        ")\n",
        "\n",
        "print(metric_frame_fair.by_group)"
      ],
      "metadata": {
        "colab": {
          "base_uri": "https://localhost:8080/"
        },
        "id": "JkrVRyHaUIY7",
        "outputId": "ba44abc3-a112-4b04-83f6-b7239226de66"
      },
      "execution_count": 22,
      "outputs": [
        {
          "output_type": "stream",
          "name": "stdout",
          "text": [
            "           Selection Rate  Accuracy\n",
            "sex_ Male                          \n",
            "False            0.106238  0.857319\n",
            "True             0.114071  0.744143\n"
          ]
        }
      ]
    }
  ]
}