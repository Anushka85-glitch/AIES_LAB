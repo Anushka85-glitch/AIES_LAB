{
  "nbformat": 4,
  "nbformat_minor": 0,
  "metadata": {
    "colab": {
      "provenance": []
    },
    "kernelspec": {
      "name": "python3",
      "display_name": "Python 3"
    },
    "language_info": {
      "name": "python"
    }
  },
  "cells": [
    {
      "cell_type": "code",
      "metadata": {
        "colab": {
          "base_uri": "https://localhost:8080/"
        },
        "id": "ffa1346e",
        "outputId": "0ae5bdf1-ba98-4491-addb-75f144ceb90a"
      },
      "source": [
        "%pip install fairlearn"
      ],
      "execution_count": 2,
      "outputs": [
        {
          "output_type": "stream",
          "name": "stdout",
          "text": [
            "Collecting fairlearn\n",
            "  Downloading fairlearn-0.12.0-py3-none-any.whl.metadata (7.0 kB)\n",
            "Requirement already satisfied: numpy>=1.24.4 in /usr/local/lib/python3.11/dist-packages (from fairlearn) (2.0.2)\n",
            "Requirement already satisfied: pandas>=2.0.3 in /usr/local/lib/python3.11/dist-packages (from fairlearn) (2.2.2)\n",
            "Requirement already satisfied: scikit-learn>=1.2.1 in /usr/local/lib/python3.11/dist-packages (from fairlearn) (1.6.1)\n",
            "Requirement already satisfied: scipy>=1.9.3 in /usr/local/lib/python3.11/dist-packages (from fairlearn) (1.16.1)\n",
            "Requirement already satisfied: python-dateutil>=2.8.2 in /usr/local/lib/python3.11/dist-packages (from pandas>=2.0.3->fairlearn) (2.9.0.post0)\n",
            "Requirement already satisfied: pytz>=2020.1 in /usr/local/lib/python3.11/dist-packages (from pandas>=2.0.3->fairlearn) (2025.2)\n",
            "Requirement already satisfied: tzdata>=2022.7 in /usr/local/lib/python3.11/dist-packages (from pandas>=2.0.3->fairlearn) (2025.2)\n",
            "Requirement already satisfied: joblib>=1.2.0 in /usr/local/lib/python3.11/dist-packages (from scikit-learn>=1.2.1->fairlearn) (1.5.1)\n",
            "Requirement already satisfied: threadpoolctl>=3.1.0 in /usr/local/lib/python3.11/dist-packages (from scikit-learn>=1.2.1->fairlearn) (3.6.0)\n",
            "Requirement already satisfied: six>=1.5 in /usr/local/lib/python3.11/dist-packages (from python-dateutil>=2.8.2->pandas>=2.0.3->fairlearn) (1.17.0)\n",
            "Downloading fairlearn-0.12.0-py3-none-any.whl (240 kB)\n",
            "\u001b[?25l   \u001b[90m━━━━━━━━━━━━━━━━━━━━━━━━━━━━━━━━━━━━━━━━\u001b[0m \u001b[32m0.0/240.0 kB\u001b[0m \u001b[31m?\u001b[0m eta \u001b[36m-:--:--\u001b[0m\r\u001b[2K   \u001b[91m━━━━━━━━━━━\u001b[0m\u001b[91m╸\u001b[0m\u001b[90m━━━━━━━━━━━━━━━━━━━━━━━━━━━━\u001b[0m \u001b[32m71.7/240.0 kB\u001b[0m \u001b[31m2.8 MB/s\u001b[0m eta \u001b[36m0:00:01\u001b[0m\r\u001b[2K   \u001b[90m━━━━━━━━━━━━━━━━━━━━━━━━━━━━━━━━━━━━━━━━\u001b[0m \u001b[32m240.0/240.0 kB\u001b[0m \u001b[31m3.9 MB/s\u001b[0m eta \u001b[36m0:00:00\u001b[0m\n",
            "\u001b[?25hInstalling collected packages: fairlearn\n",
            "Successfully installed fairlearn-0.12.0\n"
          ]
        }
      ]
    },
    {
      "cell_type": "code",
      "source": [
        "import pandas as pd\n",
        "from sklearn.model_selection import train_test_split\n",
        "from sklearn.linear_model import LogisticRegression\n",
        "from fairlearn.metrics import MetricFrame, selection_rate, demographic_parity_difference, demographic_parity_ratio\n",
        "import zipfile\n",
        "import os\n",
        "\n",
        "# Load and preprocess\n",
        "url = ('/content/adult.zip')\n",
        "\n",
        "# Extract the desired file from the zip archive\n",
        "with zipfile.ZipFile(url, 'r') as zip_ref:\n",
        "    zip_ref.extract('adult.data', '/content/') # Extract 'adult.data' to /content/\n",
        "\n",
        "# Construct the path to the extracted file\n",
        "extracted_file_path = '/content/adult.data'\n",
        "\n",
        "# Read the extracted CSV file\n",
        "data = pd.read_csv(extracted_file_path, header=None, na_values=' ?')\n",
        "data.columns = ['age', 'workclass', 'fnlwgt', 'education', 'education.num', 'marital.status', 'occupation', 'relationship', 'race', 'sex', 'capital.gain', 'capital.loss', 'hours.per.week', 'native.country', 'income']\n",
        "data = data[['age', 'education.num', 'hours.per.week', 'sex', 'income']]\n",
        "data = pd.get_dummies(data, drop_first=True)\n",
        "data['sex_Female'] = 1 - data['sex_ Male']\n",
        "\n",
        "X = data.drop(columns=['income_ >50K', 'sex_ Male'])\n",
        "y = data['income_ >50K']\n",
        "sensitive = data['sex_Female']\n",
        "\n",
        "# Train-test split\n",
        "X_train, X_test, y_train, y_test, sens_train, sens_test = train_test_split(\n",
        "    X, y, sensitive, test_size=0.3, random_state=42, stratify=y\n",
        ")\n",
        "\n",
        "# Model\n",
        "model = LogisticRegression(max_iter=1000)\n",
        "model.fit(X_train, y_train)\n",
        "y_pred = model.predict(X_test)\n",
        "\n",
        "# Fairness metrics\n",
        "metric_frame = MetricFrame(metrics=selection_rate, y_true=y_test, y_pred=y_pred, sensitive_features=sens_test)\n",
        "print(\"Selection Rates by Gender (Female=1, Male=0):\\n\", metric_frame.by_group)\n",
        "\n",
        "dp_diff = demographic_parity_difference(y_test, y_pred, sensitive_features=sens_test)\n",
        "dp_ratio = demographic_parity_ratio(y_test, y_pred, sensitive_features=sens_test)\n",
        "print(f\"Demographic Parity Difference: {dp_diff:.3f}\")\n",
        "print(f\"Demographic Parity Ratio: {dp_ratio:.3f}\")"
      ],
      "metadata": {
        "colab": {
          "base_uri": "https://localhost:8080/"
        },
        "id": "rj-gkblBxGIl",
        "outputId": "6130bc70-5e99-461c-b34d-63d0bcf4d633"
      },
      "execution_count": 11,
      "outputs": [
        {
          "output_type": "stream",
          "name": "stdout",
          "text": [
            "Selection Rates by Gender (Female=1, Male=0):\n",
            " sex_Female\n",
            "0    0.200913\n",
            "1    0.015005\n",
            "Name: selection_rate, dtype: float64\n",
            "Demographic Parity Difference: 0.186\n",
            "Demographic Parity Ratio: 0.075\n"
          ]
        }
      ]
    }
  ]
}